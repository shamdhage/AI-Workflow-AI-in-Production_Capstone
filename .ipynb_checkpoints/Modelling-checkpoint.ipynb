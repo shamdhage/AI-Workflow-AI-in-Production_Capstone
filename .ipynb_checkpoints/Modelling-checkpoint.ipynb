{
 "cells": [
  {
   "cell_type": "code",
   "execution_count": 1,
   "metadata": {},
   "outputs": [],
   "source": [
    "#Standard Imports\n",
    "import pandas as pd\n",
    "import numpy as np\n",
    "import os\n",
    "import time\n",
    "import joblib\n",
    "\n",
    "#Preprocessing\n",
    "from sklearn.model_selection import train_test_split\n",
    "from sklearn.model_selection import GridSearchCV\n",
    "from sklearn.preprocessing import StandardScaler\n",
    "from sklearn.pipeline import Pipeline\n",
    "\n",
    "#Modelling\n",
    "from sklearn.tree import DecisionTreeRegressor\n",
    "from sklearn.ensemble import RandomForestRegressor, GradientBoostingRegressor, AdaBoostRegressor\n",
    "import xgboost as xgb\n",
    "\n",
    "from sklearn.metrics import mean_squared_error as mse"
   ]
  },
  {
   "cell_type": "code",
   "execution_count": 2,
   "metadata": {},
   "outputs": [],
   "source": [
    "#Load from preprocessing.py\n",
    "from preprocessing import load_avvail_data, engineer_features, timeseries_aggregate"
   ]
  },
  {
   "cell_type": "code",
   "execution_count": 3,
   "metadata": {},
   "outputs": [],
   "source": [
    "MODEL_DIR = os.path.join('models')\n",
    "MODEL_VERSION = 0.1\n",
    "MODEL_VERSION_NOTE = '-'"
   ]
  },
  {
   "cell_type": "code",
   "execution_count": 4,
   "metadata": {},
   "outputs": [],
   "source": [
    "def _model_train(X,y, random_state = 1234):\n",
    "    \"\"\"\n",
    "    Train models and select the best one out of DecisionTreeRegression,  GradientBoostingRegression, AdaBoostRegression\n",
    "    and XGBoostRegressor\n",
    "    \"\"\"\n",
    "    start_time = time.time()\n",
    "    \n",
    "    #Train_Test_Split Data\n",
    "    X_train, X_test, y_train, y_test = train_test_split(X,y, test_size = 0.2, random_state = random_state)\n",
    "    \n",
    "    \n",
    "    ##Train Models\n",
    "    \n",
    "    GridSearchParameters = {'criterion': ['mse', 'mae', 'friedman_mse'],\n",
    "                            'max_depth': [None, 10,20,50],\n",
    "                            'max_features': ['auto', 'sqrt', 'log2']}, \\\n",
    "    {'criterion': ['mse', 'mae'],\n",
    "     'max_features' : ['auto', 'sqrt'] }, \\\n",
    "    {'loss' : ['ls', 'lad', 'huber', 'quantile'],\n",
    "     'learning_rate' : [0.1,0.01,0.001]}, \\\n",
    "    {'loss' : ['linear', 'square',],\n",
    "     'learning_rate' : [0.1,0.01,0.5]}, \\\n",
    "    {'learning_rate': [0.05, 0.1, 0.01],\n",
    "     'max_depth': [1, 5, 50],\n",
    "     'n_estimators': [100, 1000, 500],\n",
    "     'seed': [1234] }\n",
    "\n",
    "    params = {\n",
    "        'DTR_P' : GridSearchParameters[0],\n",
    "        'RFR_P' : GridSearchParameters[1],\n",
    "        'GBR_P' : GridSearchParameters[2],\n",
    "        'ADA_P' : GridSearchParameters[3],\n",
    "        'XGB_P' : GridSearchParameters[4],\n",
    "    }\n",
    "    \n",
    "    regressor_dict = {\n",
    "        'DTR' : DecisionTreeRegressor(random_state = random_state),\n",
    "        'RFR' : RandomForestRegressor(random_state = random_state),\n",
    "        'GBR' : GradientBoostingRegressor(random_state = random_state),\n",
    "        'ADA' : AdaBoostRegressor(random_state = random_state),\n",
    "        'XGB' : xgb.XGBRegressor()\n",
    "\n",
    "    }\n",
    "    \n",
    "    models = {}\n",
    "    \n",
    "    for model_name in regressor_dict:\n",
    "        \n",
    "        pipe = Pipeline(steps = [('scaler', StandardScaler()),\n",
    "                                ('regressor', regressor_dict[model_name])])\n",
    "        grid = GridSearchCV(regressor_dict[model_name],\n",
    "                           param_grid = params[model_name + '_P'], cv = 5)\n",
    "        grid.fit(X_train, y_train)\n",
    "        \n",
    "        models[model_name] = grid\n",
    "        \n",
    "     \n",
    "    model_scores = []\n",
    "    \n",
    "    #Test which model is optimal.\n",
    "    for model in models:\n",
    "        y_pred = models[model].predict(X_test)\n",
    "        rmse = np.sqrt(mse(y_pred, y_test))\n",
    "        model_scores.append(rmse)\n",
    "    \n",
    "    model_index = np.argmin(model_scores)\n",
    "    best_model =  list(models.values())[model_index]\n",
    "    \n",
    "    print(f'The best model is {list(models.keys())[model_index]}')\n",
    "    \n",
    "    \n",
    "    #Retrain on best model.\n",
    "    best_model.fit(X,y)\n",
    "    \n",
    "    #Save model.\n",
    "    if not os.path.exists(MODEL_DIR):\n",
    "        os.makedirs(MODEL_DIR)\n",
    "\n",
    "    saved_model = os.path.join(MODEL_DIR, f'model_{MODEL_VERSION}')\n",
    "    joblib.dump(best_model, saved_model)\n",
    "    \n",
    "    \n",
    "    print(f'The time taken was {time.time() - start_time}')\n",
    "    return(model_scores)    \n",
    "        \n",
    "        \n",
    "        "
   ]
  },
  {
   "cell_type": "code",
   "execution_count": 5,
   "metadata": {},
   "outputs": [],
   "source": [
    "ts_all = pd.read_csv(os.path.join('data', 'ts-data', 'ts-all.csv'))"
   ]
  },
  {
   "cell_type": "code",
   "execution_count": 6,
   "metadata": {},
   "outputs": [
    {
     "data": {
      "text/html": [
       "<div>\n",
       "<style scoped>\n",
       "    .dataframe tbody tr th:only-of-type {\n",
       "        vertical-align: middle;\n",
       "    }\n",
       "\n",
       "    .dataframe tbody tr th {\n",
       "        vertical-align: top;\n",
       "    }\n",
       "\n",
       "    .dataframe thead th {\n",
       "        text-align: right;\n",
       "    }\n",
       "</style>\n",
       "<table border=\"1\" class=\"dataframe\">\n",
       "  <thead>\n",
       "    <tr style=\"text-align: right;\">\n",
       "      <th></th>\n",
       "      <th>target</th>\n",
       "      <th>revenue_7d</th>\n",
       "      <th>revenue_14d</th>\n",
       "      <th>revenue_30d</th>\n",
       "      <th>revenue_60d</th>\n",
       "      <th>revenue_365d</th>\n",
       "      <th>views_30d</th>\n",
       "      <th>purchases_30d</th>\n",
       "      <th>dates</th>\n",
       "    </tr>\n",
       "  </thead>\n",
       "  <tbody>\n",
       "    <tr>\n",
       "      <th>0</th>\n",
       "      <td>198307.76</td>\n",
       "      <td>14450.540</td>\n",
       "      <td>14450.540</td>\n",
       "      <td>14450.540</td>\n",
       "      <td>14450.540</td>\n",
       "      <td>14450.540</td>\n",
       "      <td>15047.0</td>\n",
       "      <td>3223.0</td>\n",
       "      <td>2017-11-28</td>\n",
       "    </tr>\n",
       "    <tr>\n",
       "      <th>1</th>\n",
       "      <td>183857.22</td>\n",
       "      <td>27862.500</td>\n",
       "      <td>27862.500</td>\n",
       "      <td>27862.500</td>\n",
       "      <td>27862.500</td>\n",
       "      <td>27862.500</td>\n",
       "      <td>29206.0</td>\n",
       "      <td>6500.0</td>\n",
       "      <td>2017-11-29</td>\n",
       "    </tr>\n",
       "    <tr>\n",
       "      <th>2</th>\n",
       "      <td>170445.26</td>\n",
       "      <td>41152.750</td>\n",
       "      <td>41152.750</td>\n",
       "      <td>41152.750</td>\n",
       "      <td>41152.750</td>\n",
       "      <td>41152.750</td>\n",
       "      <td>44972.0</td>\n",
       "      <td>9502.0</td>\n",
       "      <td>2017-11-30</td>\n",
       "    </tr>\n",
       "    <tr>\n",
       "      <th>3</th>\n",
       "      <td>157155.01</td>\n",
       "      <td>50840.030</td>\n",
       "      <td>50840.030</td>\n",
       "      <td>50840.030</td>\n",
       "      <td>50840.030</td>\n",
       "      <td>50840.030</td>\n",
       "      <td>57496.0</td>\n",
       "      <td>12061.0</td>\n",
       "      <td>2017-12-01</td>\n",
       "    </tr>\n",
       "    <tr>\n",
       "      <th>4</th>\n",
       "      <td>147467.73</td>\n",
       "      <td>52283.290</td>\n",
       "      <td>52283.290</td>\n",
       "      <td>52283.290</td>\n",
       "      <td>52283.290</td>\n",
       "      <td>52283.290</td>\n",
       "      <td>60809.0</td>\n",
       "      <td>12463.0</td>\n",
       "      <td>2017-12-02</td>\n",
       "    </tr>\n",
       "    <tr>\n",
       "      <th>...</th>\n",
       "      <td>...</td>\n",
       "      <td>...</td>\n",
       "      <td>...</td>\n",
       "      <td>...</td>\n",
       "      <td>...</td>\n",
       "      <td>...</td>\n",
       "      <td>...</td>\n",
       "      <td>...</td>\n",
       "      <td>...</td>\n",
       "    </tr>\n",
       "    <tr>\n",
       "      <th>606</th>\n",
       "      <td>28864.49</td>\n",
       "      <td>27837.311</td>\n",
       "      <td>85890.361</td>\n",
       "      <td>168756.531</td>\n",
       "      <td>369473.871</td>\n",
       "      <td>2537160.485</td>\n",
       "      <td>202176.0</td>\n",
       "      <td>38247.0</td>\n",
       "      <td>2019-07-27</td>\n",
       "    </tr>\n",
       "    <tr>\n",
       "      <th>607</th>\n",
       "      <td>28864.49</td>\n",
       "      <td>27801.821</td>\n",
       "      <td>85702.681</td>\n",
       "      <td>168336.191</td>\n",
       "      <td>366792.931</td>\n",
       "      <td>2540310.745</td>\n",
       "      <td>203641.0</td>\n",
       "      <td>38491.0</td>\n",
       "      <td>2019-07-28</td>\n",
       "    </tr>\n",
       "    <tr>\n",
       "      <th>608</th>\n",
       "      <td>25714.23</td>\n",
       "      <td>24273.641</td>\n",
       "      <td>62620.731</td>\n",
       "      <td>172710.731</td>\n",
       "      <td>364102.411</td>\n",
       "      <td>2541950.795</td>\n",
       "      <td>210666.0</td>\n",
       "      <td>39691.0</td>\n",
       "      <td>2019-07-29</td>\n",
       "    </tr>\n",
       "    <tr>\n",
       "      <th>609</th>\n",
       "      <td>21339.69</td>\n",
       "      <td>36481.170</td>\n",
       "      <td>73617.071</td>\n",
       "      <td>187291.511</td>\n",
       "      <td>377218.761</td>\n",
       "      <td>2551819.085</td>\n",
       "      <td>216624.0</td>\n",
       "      <td>40458.0</td>\n",
       "      <td>2019-07-30</td>\n",
       "    </tr>\n",
       "    <tr>\n",
       "      <th>610</th>\n",
       "      <td>4964.93</td>\n",
       "      <td>37519.980</td>\n",
       "      <td>67604.341</td>\n",
       "      <td>182877.601</td>\n",
       "      <td>382183.691</td>\n",
       "      <td>2548566.095</td>\n",
       "      <td>216810.0</td>\n",
       "      <td>39818.0</td>\n",
       "      <td>2019-07-31</td>\n",
       "    </tr>\n",
       "  </tbody>\n",
       "</table>\n",
       "<p>611 rows × 9 columns</p>\n",
       "</div>"
      ],
      "text/plain": [
       "        target  revenue_7d  revenue_14d  revenue_30d  revenue_60d  \\\n",
       "0    198307.76   14450.540    14450.540    14450.540    14450.540   \n",
       "1    183857.22   27862.500    27862.500    27862.500    27862.500   \n",
       "2    170445.26   41152.750    41152.750    41152.750    41152.750   \n",
       "3    157155.01   50840.030    50840.030    50840.030    50840.030   \n",
       "4    147467.73   52283.290    52283.290    52283.290    52283.290   \n",
       "..         ...         ...          ...          ...          ...   \n",
       "606   28864.49   27837.311    85890.361   168756.531   369473.871   \n",
       "607   28864.49   27801.821    85702.681   168336.191   366792.931   \n",
       "608   25714.23   24273.641    62620.731   172710.731   364102.411   \n",
       "609   21339.69   36481.170    73617.071   187291.511   377218.761   \n",
       "610    4964.93   37519.980    67604.341   182877.601   382183.691   \n",
       "\n",
       "     revenue_365d  views_30d  purchases_30d       dates  \n",
       "0       14450.540    15047.0         3223.0  2017-11-28  \n",
       "1       27862.500    29206.0         6500.0  2017-11-29  \n",
       "2       41152.750    44972.0         9502.0  2017-11-30  \n",
       "3       50840.030    57496.0        12061.0  2017-12-01  \n",
       "4       52283.290    60809.0        12463.0  2017-12-02  \n",
       "..            ...        ...            ...         ...  \n",
       "606   2537160.485   202176.0        38247.0  2019-07-27  \n",
       "607   2540310.745   203641.0        38491.0  2019-07-28  \n",
       "608   2541950.795   210666.0        39691.0  2019-07-29  \n",
       "609   2551819.085   216624.0        40458.0  2019-07-30  \n",
       "610   2548566.095   216810.0        39818.0  2019-07-31  \n",
       "\n",
       "[611 rows x 9 columns]"
      ]
     },
     "execution_count": 6,
     "metadata": {},
     "output_type": "execute_result"
    }
   ],
   "source": [
    "from preprocessing import engineer_features\n",
    "eng_df = engineer_features(ts_all)\n",
    "eng_df"
   ]
  },
  {
   "cell_type": "code",
   "execution_count": 7,
   "metadata": {},
   "outputs": [],
   "source": [
    "X = eng_df.drop(['target','dates'], axis = 1)\n",
    "y = eng_df.target"
   ]
  },
  {
   "cell_type": "code",
   "execution_count": 8,
   "metadata": {},
   "outputs": [
    {
     "name": "stdout",
     "output_type": "stream",
     "text": [
      "The best model is XGB\n",
      "The time taken was 102.73463678359985\n"
     ]
    },
    {
     "data": {
      "text/plain": [
       "[31247.23772385812,\n",
       " 20834.69736057729,\n",
       " 23891.91945895753,\n",
       " 43921.146460412,\n",
       " 19584.745513780083]"
      ]
     },
     "execution_count": 8,
     "metadata": {},
     "output_type": "execute_result"
    }
   ],
   "source": [
    "_model_train(X,y)"
   ]
  },
  {
   "cell_type": "code",
   "execution_count": 9,
   "metadata": {},
   "outputs": [],
   "source": [
    "a = {'b': 1},{'c': 2}"
   ]
  },
  {
   "cell_type": "code",
   "execution_count": 10,
   "metadata": {},
   "outputs": [
    {
     "data": {
      "text/plain": [
       "{'c': 2}"
      ]
     },
     "execution_count": 10,
     "metadata": {},
     "output_type": "execute_result"
    }
   ],
   "source": [
    "a[1]"
   ]
  },
  {
   "cell_type": "code",
   "execution_count": 11,
   "metadata": {},
   "outputs": [
    {
     "data": {
      "text/plain": [
       "{'b': 1}"
      ]
     },
     "execution_count": 11,
     "metadata": {},
     "output_type": "execute_result"
    }
   ],
   "source": [
    "a[0]"
   ]
  },
  {
   "cell_type": "code",
   "execution_count": 12,
   "metadata": {},
   "outputs": [],
   "source": [
    "    GridSearchParameters = {'criterion': ['mse', 'mae', 'friedman_mse'],'max_depth': [None, 10,20,50],'max_features': ['auto', 'sqrt', 'log2']},{'criterion': ['mse', 'mae'],'max_features' : ['auto', 'sqrt'] }"
   ]
  },
  {
   "cell_type": "code",
   "execution_count": 13,
   "metadata": {},
   "outputs": [
    {
     "data": {
      "text/plain": [
       "{'criterion': ['mse', 'mae'], 'max_features': ['auto', 'sqrt']}"
      ]
     },
     "execution_count": 13,
     "metadata": {},
     "output_type": "execute_result"
    }
   ],
   "source": [
    "GridSearchParameters[1]"
   ]
  },
  {
   "cell_type": "code",
   "execution_count": 14,
   "metadata": {},
   "outputs": [],
   "source": [
    "#Train_Test_Split Data\n",
    "X_train, X_test, y_train, y_test = train_test_split(X,y, test_size = 0.2, random_state = 1234)"
   ]
  },
  {
   "cell_type": "code",
   "execution_count": 15,
   "metadata": {},
   "outputs": [
    {
     "data": {
      "text/plain": [
       "565    187187.440\n",
       "288    324514.801\n",
       "298    295694.360\n",
       "339    321515.082\n",
       "557    150539.670\n",
       "          ...    \n",
       "95     244756.411\n",
       "146     97205.131\n",
       "78     143326.244\n",
       "59     140734.147\n",
       "185    229099.440\n",
       "Name: target, Length: 123, dtype: float64"
      ]
     },
     "execution_count": 15,
     "metadata": {},
     "output_type": "execute_result"
    }
   ],
   "source": [
    "y_test"
   ]
  },
  {
   "cell_type": "code",
   "execution_count": 16,
   "metadata": {},
   "outputs": [],
   "source": [
    "a = {'b': 1}"
   ]
  },
  {
   "cell_type": "code",
   "execution_count": 17,
   "metadata": {},
   "outputs": [
    {
     "data": {
      "text/plain": [
       "['b']"
      ]
     },
     "execution_count": 17,
     "metadata": {},
     "output_type": "execute_result"
    }
   ],
   "source": [
    "list(a.keys())"
   ]
  },
  {
   "cell_type": "code",
   "execution_count": null,
   "metadata": {},
   "outputs": [],
   "source": []
  }
 ],
 "metadata": {
  "kernelspec": {
   "display_name": "Python 3",
   "language": "python",
   "name": "python3"
  },
  "language_info": {
   "codemirror_mode": {
    "name": "ipython",
    "version": 3
   },
   "file_extension": ".py",
   "mimetype": "text/x-python",
   "name": "python",
   "nbconvert_exporter": "python",
   "pygments_lexer": "ipython3",
   "version": "3.7.6"
  }
 },
 "nbformat": 4,
 "nbformat_minor": 4
}

